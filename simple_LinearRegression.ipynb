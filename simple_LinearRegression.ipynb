{
  "nbformat": 4,
  "nbformat_minor": 0,
  "metadata": {
    "colab": {
      "name": "simple LinearRegression.ipynb",
      "provenance": [],
      "authorship_tag": "ABX9TyOlwoP29Viz7kzbIg34wlgi",
      "include_colab_link": true
    },
    "kernelspec": {
      "name": "python3",
      "display_name": "Python 3"
    },
    "language_info": {
      "name": "python"
    }
  },
  "cells": [
    {
      "cell_type": "markdown",
      "metadata": {
        "id": "view-in-github",
        "colab_type": "text"
      },
      "source": [
        "<a href=\"https://colab.research.google.com/github/anwaraarish333/anwaraarish.github.io/blob/main/simple_LinearRegression.ipynb\" target=\"_parent\"><img src=\"https://colab.research.google.com/assets/colab-badge.svg\" alt=\"Open In Colab\"/></a>"
      ]
    },
    {
      "cell_type": "code",
      "metadata": {
        "id": "fM_G3h_pJA68"
      },
      "source": [
        "import numpy as np\n",
        "import matplotlib.pyplot as plt\n",
        "import pandas as pd"
      ],
      "execution_count": 9,
      "outputs": []
    },
    {
      "cell_type": "code",
      "metadata": {
        "colab": {
          "base_uri": "https://localhost:8080/",
          "height": 203
        },
        "id": "Kgyf-QlKjkqe",
        "outputId": "06610c78-7f36-4ea6-d16c-2c350ceb2625"
      },
      "source": [
        "data = pd.read_csv(\"/content/SimpleLinearRegressionDataset.csv\")\n",
        "data.head()"
      ],
      "execution_count": 10,
      "outputs": [
        {
          "output_type": "execute_result",
          "data": {
            "text/html": [
              "<div>\n",
              "<style scoped>\n",
              "    .dataframe tbody tr th:only-of-type {\n",
              "        vertical-align: middle;\n",
              "    }\n",
              "\n",
              "    .dataframe tbody tr th {\n",
              "        vertical-align: top;\n",
              "    }\n",
              "\n",
              "    .dataframe thead th {\n",
              "        text-align: right;\n",
              "    }\n",
              "</style>\n",
              "<table border=\"1\" class=\"dataframe\">\n",
              "  <thead>\n",
              "    <tr style=\"text-align: right;\">\n",
              "      <th></th>\n",
              "      <th>Price</th>\n",
              "      <th>Mileage</th>\n",
              "      <th>Make</th>\n",
              "      <th>Model</th>\n",
              "      <th>Trim</th>\n",
              "      <th>Type</th>\n",
              "      <th>Cylinder</th>\n",
              "    </tr>\n",
              "  </thead>\n",
              "  <tbody>\n",
              "    <tr>\n",
              "      <th>0</th>\n",
              "      <td>17314.10313</td>\n",
              "      <td>8221</td>\n",
              "      <td>Buick</td>\n",
              "      <td>Century</td>\n",
              "      <td>Sedan 4D</td>\n",
              "      <td>Sedan</td>\n",
              "      <td>6</td>\n",
              "    </tr>\n",
              "    <tr>\n",
              "      <th>1</th>\n",
              "      <td>17542.03608</td>\n",
              "      <td>9135</td>\n",
              "      <td>Buick</td>\n",
              "      <td>Century</td>\n",
              "      <td>Sedan 4D</td>\n",
              "      <td>Sedan</td>\n",
              "      <td>6</td>\n",
              "    </tr>\n",
              "    <tr>\n",
              "      <th>2</th>\n",
              "      <td>16218.84786</td>\n",
              "      <td>13196</td>\n",
              "      <td>Buick</td>\n",
              "      <td>Century</td>\n",
              "      <td>Sedan 4D</td>\n",
              "      <td>Sedan</td>\n",
              "      <td>6</td>\n",
              "    </tr>\n",
              "    <tr>\n",
              "      <th>3</th>\n",
              "      <td>16336.91314</td>\n",
              "      <td>16342</td>\n",
              "      <td>Buick</td>\n",
              "      <td>Century</td>\n",
              "      <td>Sedan 4D</td>\n",
              "      <td>Sedan</td>\n",
              "      <td>6</td>\n",
              "    </tr>\n",
              "    <tr>\n",
              "      <th>4</th>\n",
              "      <td>16339.17032</td>\n",
              "      <td>19832</td>\n",
              "      <td>Buick</td>\n",
              "      <td>Century</td>\n",
              "      <td>Sedan 4D</td>\n",
              "      <td>Sedan</td>\n",
              "      <td>6</td>\n",
              "    </tr>\n",
              "  </tbody>\n",
              "</table>\n",
              "</div>"
            ],
            "text/plain": [
              "         Price  Mileage   Make    Model      Trim   Type  Cylinder\n",
              "0  17314.10313     8221  Buick  Century  Sedan 4D  Sedan         6\n",
              "1  17542.03608     9135  Buick  Century  Sedan 4D  Sedan         6\n",
              "2  16218.84786    13196  Buick  Century  Sedan 4D  Sedan         6\n",
              "3  16336.91314    16342  Buick  Century  Sedan 4D  Sedan         6\n",
              "4  16339.17032    19832  Buick  Century  Sedan 4D  Sedan         6"
            ]
          },
          "metadata": {
            "tags": []
          },
          "execution_count": 10
        }
      ]
    },
    {
      "cell_type": "code",
      "metadata": {
        "id": "yhbChn9njvcj"
      },
      "source": [
        "x= data.iloc[:,:1].values\n",
        "y = data.iloc[:,6].values"
      ],
      "execution_count": 11,
      "outputs": []
    },
    {
      "cell_type": "code",
      "metadata": {
        "id": "AYZ3M8_rlPdp"
      },
      "source": [
        "from sklearn.model_selection import train_test_split\n",
        "x_train, x_test, y_train, y_test = train_test_split(x,y,test_size = 0.25)"
      ],
      "execution_count": 12,
      "outputs": []
    },
    {
      "cell_type": "code",
      "metadata": {
        "colab": {
          "base_uri": "https://localhost:8080/"
        },
        "id": "J8quqkrTlSXS",
        "outputId": "a31f7750-5f8d-4333-bfb5-7bc00ad82dbe"
      },
      "source": [
        "print(x_train.shape)\n",
        "print(y_train.shape)\n",
        "print(x_test.shape)\n",
        "print(y_test.shape)"
      ],
      "execution_count": 13,
      "outputs": [
        {
          "output_type": "stream",
          "text": [
            "(372, 1)\n",
            "(372,)\n",
            "(125, 1)\n",
            "(125,)\n"
          ],
          "name": "stdout"
        }
      ]
    },
    {
      "cell_type": "code",
      "metadata": {
        "colab": {
          "base_uri": "https://localhost:8080/"
        },
        "id": "ocj2__JYlUec",
        "outputId": "ce4263bc-9107-49fc-fdcc-b383d78195d1"
      },
      "source": [
        "print(x_train)\n",
        "print(y_train)\n",
        "print(x_test)\n",
        "print(y_test)"
      ],
      "execution_count": 14,
      "outputs": [
        {
          "output_type": "stream",
          "text": [
            "[[38445.89717 ]\n",
            " [21745.02944 ]\n",
            " [15138.40082 ]\n",
            " [20537.14172 ]\n",
            " [10805.13009 ]\n",
            " [51154.04722 ]\n",
            " [14194.8236  ]\n",
            " [18856.01869 ]\n",
            " [11671.85813 ]\n",
            " [22470.35843 ]\n",
            " [12425.38917 ]\n",
            " [23573.822   ]\n",
            " [29275.20871 ]\n",
            " [23348.01695 ]\n",
            " [13308.83375 ]\n",
            " [11302.90299 ]\n",
            " [22358.87768 ]\n",
            " [16752.5144  ]\n",
            " [65281.48124 ]\n",
            " [10386.04022 ]\n",
            " [39875.85426 ]\n",
            " [ 9919.048185]\n",
            " [22231.56315 ]\n",
            " [13446.21342 ]\n",
            " [39072.39205 ]\n",
            " [15832.51835 ]\n",
            " [20538.08751 ]\n",
            " [12314.59122 ]\n",
            " [11574.17381 ]\n",
            " [13681.698   ]\n",
            " [24809.04232 ]\n",
            " [21341.25721 ]\n",
            " [15128.99224 ]\n",
            " [12845.17425 ]\n",
            " [38990.60733 ]\n",
            " [11096.85727 ]\n",
            " [14275.12764 ]\n",
            " [11179.95357 ]\n",
            " [21200.69021 ]\n",
            " [17801.22953 ]\n",
            " [36332.89469 ]\n",
            " [16723.99388 ]\n",
            " [21058.13958 ]\n",
            " [12045.9207  ]\n",
            " [15047.00274 ]\n",
            " [14220.01322 ]\n",
            " [32501.24519 ]\n",
            " [19191.98962 ]\n",
            " [33417.96501 ]\n",
            " [16825.19088 ]\n",
            " [23345.32907 ]\n",
            " [34685.66298 ]\n",
            " [35866.58271 ]\n",
            " [15747.80397 ]\n",
            " [16456.97464 ]\n",
            " [18169.37548 ]\n",
            " [18040.14401 ]\n",
            " [37288.93674 ]\n",
            " [18876.87065 ]\n",
            " [10872.01393 ]\n",
            " [18910.80429 ]\n",
            " [17839.80077 ]\n",
            " [11080.51638 ]\n",
            " [12810.91058 ]\n",
            " [20127.04418 ]\n",
            " [18009.84603 ]\n",
            " [19641.7419  ]\n",
            " [23016.00801 ]\n",
            " [14914.20128 ]\n",
            " [12257.16409 ]\n",
            " [34974.37804 ]\n",
            " [15554.28313 ]\n",
            " [ 9954.054174]\n",
            " [31431.13037 ]\n",
            " [20986.01602 ]\n",
            " [40856.3909  ]\n",
            " [17394.0214  ]\n",
            " [11318.00809 ]\n",
            " [11539.04853 ]\n",
            " [41053.48217 ]\n",
            " [15553.20871 ]\n",
            " [19751.04143 ]\n",
            " [14508.75009 ]\n",
            " [14145.88099 ]\n",
            " [17772.96968 ]\n",
            " [21525.33901 ]\n",
            " [11167.861   ]\n",
            " [22120.75776 ]\n",
            " [12163.82042 ]\n",
            " [32537.18675 ]\n",
            " [10315.01823 ]\n",
            " [18800.9589  ]\n",
            " [19075.67875 ]\n",
            " [25452.47385 ]\n",
            " [39092.18992 ]\n",
            " [10897.07651 ]\n",
            " [21646.11692 ]\n",
            " [20294.57682 ]\n",
            " [12944.93875 ]\n",
            " [11699.03392 ]\n",
            " [12981.95203 ]\n",
            " [15709.05282 ]\n",
            " [16805.05739 ]\n",
            " [22894.43868 ]\n",
            " [12733.85792 ]\n",
            " [20698.07708 ]\n",
            " [13106.90042 ]\n",
            " [26302.07428 ]\n",
            " [17314.10313 ]\n",
            " [13230.91867 ]\n",
            " [42820.32902 ]\n",
            " [12146.18803 ]\n",
            " [20221.80881 ]\n",
            " [21020.83678 ]\n",
            " [36970.89805 ]\n",
            " [21799.1721  ]\n",
            " [10287.97736 ]\n",
            " [18800.0931  ]\n",
            " [14897.04055 ]\n",
            " [19344.16554 ]\n",
            " [12649.11089 ]\n",
            " [21956.34266 ]\n",
            " [14222.3054  ]\n",
            " [11328.95887 ]\n",
            " [21403.75642 ]\n",
            " [ 9041.906254]\n",
            " [25508.21096 ]\n",
            " [17458.22153 ]\n",
            " [15623.20027 ]\n",
            " [36633.63382 ]\n",
            " [ 9928.188175]\n",
            " [19556.89932 ]\n",
            " [14894.98259 ]\n",
            " [25948.96259 ]\n",
            " [34297.30535 ]\n",
            " [36245.15823 ]\n",
            " [23785.92253 ]\n",
            " [22113.62802 ]\n",
            " [19471.97485 ]\n",
            " [63913.11725 ]\n",
            " [15680.86443 ]\n",
            " [16339.17032 ]\n",
            " [14593.8541  ]\n",
            " [15084.8154  ]\n",
            " [39307.00916 ]\n",
            " [10106.01643 ]\n",
            " [18957.89004 ]\n",
            " [17218.68575 ]\n",
            " [60567.54909 ]\n",
            " [30392.75016 ]\n",
            " [20902.10379 ]\n",
            " [ 9654.060142]\n",
            " [41419.03726 ]\n",
            " [42377.95544 ]\n",
            " [10777.05254 ]\n",
            " [15295.01827 ]\n",
            " [21908.36662 ]\n",
            " [21878.12    ]\n",
            " [13678.863   ]\n",
            " [11700.11149 ]\n",
            " [11581.90504 ]\n",
            " [17645.74504 ]\n",
            " [52001.99438 ]\n",
            " [12897.92954 ]\n",
            " [16027.28649 ]\n",
            " [14678.10533 ]\n",
            " [18348.89857 ]\n",
            " [44749.68679 ]\n",
            " [18311.7563  ]\n",
            " [13436.00015 ]\n",
            " [15797.19576 ]\n",
            " [18004.87041 ]\n",
            " [25589.98315 ]\n",
            " [18678.41412 ]\n",
            " [17891.63378 ]\n",
            " [21698.01475 ]\n",
            " [13464.80288 ]\n",
            " [48310.32954 ]\n",
            " [32038.33956 ]\n",
            " [11137.04565 ]\n",
            " [19105.13012 ]\n",
            " [34739.21496 ]\n",
            " [20839.14997 ]\n",
            " [14397.92808 ]\n",
            " [14862.09387 ]\n",
            " [16646.7708  ]\n",
            " [43892.46788 ]\n",
            " [17154.57646 ]\n",
            " [36210.123   ]\n",
            " [17316.0966  ]\n",
            " [11464.62886 ]\n",
            " [15664.6249  ]\n",
            " [48365.9809  ]\n",
            " [14175.87908 ]\n",
            " [15503.5088  ]\n",
            " [19027.86231 ]\n",
            " [19581.23141 ]\n",
            " [10971.09561 ]\n",
            " [69133.73172 ]\n",
            " [21575.45683 ]\n",
            " [31059.18103 ]\n",
            " [ 8638.930895]\n",
            " [17312.90715 ]\n",
            " [42773.02839 ]\n",
            " [16993.78033 ]\n",
            " [57154.44344 ]\n",
            " [12706.91135 ]\n",
            " [19682.03501 ]\n",
            " [12553.07143 ]\n",
            " [11149.6183  ]\n",
            " [32954.14134 ]\n",
            " [11615.02102 ]\n",
            " [40966.60741 ]\n",
            " [26831.19404 ]\n",
            " [13310.05959 ]\n",
            " [13545.0309  ]\n",
            " [13161.94283 ]\n",
            " [16341.8041  ]\n",
            " [15951.81117 ]\n",
            " [38795.37909 ]\n",
            " [41671.58314 ]\n",
            " [17115.12203 ]\n",
            " [23406.68982 ]\n",
            " [12570.13668 ]\n",
            " [14997.88434 ]\n",
            " [39713.66792 ]\n",
            " [16300.46524 ]\n",
            " [25097.47325 ]\n",
            " [41378.04809 ]\n",
            " [17808.199   ]\n",
            " [13688.94568 ]\n",
            " [13540.04164 ]\n",
            " [13167.70232 ]\n",
            " [11070.06064 ]\n",
            " [36077.79612 ]\n",
            " [11247.86253 ]\n",
            " [13530.06864 ]\n",
            " [41516.42986 ]\n",
            " [11472.02276 ]\n",
            " [16116.84392 ]\n",
            " [13762.90145 ]\n",
            " [17553.75368 ]\n",
            " [11169.91839 ]\n",
            " [13699.03578 ]\n",
            " [14072.13523 ]\n",
            " [22525.26972 ]\n",
            " [13007.98418 ]\n",
            " [16403.25363 ]\n",
            " [23420.70695 ]\n",
            " [17750.88457 ]\n",
            " [43374.05242 ]\n",
            " [35261.43643 ]\n",
            " [18324.83193 ]\n",
            " [20676.16551 ]\n",
            " [22384.11869 ]\n",
            " [18974.92203 ]\n",
            " [26781.81465 ]\n",
            " [14584.44812 ]\n",
            " [20406.0995  ]\n",
            " [22661.04849 ]\n",
            " [20619.11401 ]\n",
            " [14198.09246 ]\n",
            " [33220.02845 ]\n",
            " [20952.2178  ]\n",
            " [14418.16529 ]\n",
            " [16267.09489 ]\n",
            " [16744.03025 ]\n",
            " [22064.29219 ]\n",
            " [23449.30633 ]\n",
            " [16803.12275 ]\n",
            " [26060.33535 ]\n",
            " [38824.86909 ]\n",
            " [11203.14611 ]\n",
            " [10546.78275 ]\n",
            " [19177.41206 ]\n",
            " [14255.74768 ]\n",
            " [37510.25357 ]\n",
            " [42741.52367 ]\n",
            " [19164.61063 ]\n",
            " [16860.87078 ]\n",
            " [22230.0275  ]\n",
            " [16143.95729 ]\n",
            " [21273.06171 ]\n",
            " [40335.73731 ]\n",
            " [18950.90698 ]\n",
            " [35715.76856 ]\n",
            " [12234.88805 ]\n",
            " [12408.80615 ]\n",
            " [ 9720.97889 ]\n",
            " [31181.71516 ]\n",
            " [14847.04415 ]\n",
            " [41371.37927 ]\n",
            " [20099.25684 ]\n",
            " [11394.8864  ]\n",
            " [20021.19521 ]\n",
            " [13471.00508 ]\n",
            " [12274.95758 ]\n",
            " [15230.00339 ]\n",
            " [17158.922   ]\n",
            " [12383.40281 ]\n",
            " [18835.18976 ]\n",
            " [17119.45757 ]\n",
            " [21895.75878 ]\n",
            " [12230.09977 ]\n",
            " [17515.39759 ]\n",
            " [38208.50102 ]\n",
            " [ 9506.047937]\n",
            " [26190.27147 ]\n",
            " [37215.16938 ]\n",
            " [19409.75261 ]\n",
            " [20318.89097 ]\n",
            " [17844.73077 ]\n",
            " [16472.89765 ]\n",
            " [23447.68656 ]\n",
            " [10354.04385 ]\n",
            " [19774.24907 ]\n",
            " [21725.01075 ]\n",
            " [17089.91883 ]\n",
            " [22926.09037 ]\n",
            " [40619.07227 ]\n",
            " [27714.05025 ]\n",
            " [10921.94537 ]\n",
            " [17944.85692 ]\n",
            " [12327.64161 ]\n",
            " [44205.87588 ]\n",
            " [16507.07027 ]\n",
            " [10788.97036 ]\n",
            " [ 8768.998585]\n",
            " [10491.0752  ]\n",
            " [ 9220.829677]\n",
            " [14185.02155 ]\n",
            " [13135.90503 ]\n",
            " [20017.96843 ]\n",
            " [19981.12791 ]\n",
            " [16357.99232 ]\n",
            " [14429.78964 ]\n",
            " [19446.88294 ]\n",
            " [21831.82292 ]\n",
            " [10770.10655 ]\n",
            " [22435.20282 ]\n",
            " [30646.4377  ]\n",
            " [18527.20897 ]\n",
            " [12319.69625 ]\n",
            " [18083.3963  ]\n",
            " [46732.60603 ]\n",
            " [11017.16871 ]\n",
            " [13994.90646 ]\n",
            " [21982.64771 ]\n",
            " [ 9665.84886 ]\n",
            " [11013.87137 ]\n",
            " [15000.99271 ]\n",
            " [68566.18719 ]\n",
            " [21757.04951 ]\n",
            " [17162.47826 ]\n",
            " [17542.03608 ]\n",
            " [23077.56591 ]\n",
            " [17294.181   ]\n",
            " [13041.874   ]\n",
            " [13019.07114 ]\n",
            " [35895.49941 ]\n",
            " [11045.10884 ]\n",
            " [37192.89637 ]\n",
            " [10144.95208 ]\n",
            " [13141.04795 ]\n",
            " [16543.98014 ]\n",
            " [14304.74104 ]\n",
            " [42677.60112 ]\n",
            " [31132.21349 ]\n",
            " [12630.77503 ]\n",
            " [39691.7274  ]\n",
            " [12678.85397 ]\n",
            " [44130.61706 ]]\n",
            "[8 6 6 6 4 8 4 6 4 6 4 6 6 6 4 4 6 6 8 4 8 4 8 4 8 6 6 4 4 4 6 6 4 4 8 4 4\n",
            " 4 8 6 8 6 6 4 4 4 8 6 6 6 6 8 8 4 6 6 6 8 6 4 6 6 4 4 6 6 6 6 6 4 6 6 4 6\n",
            " 6 8 6 4 4 8 4 6 4 4 6 6 4 6 4 8 4 6 6 8 8 4 6 6 4 4 4 6 6 6 4 6 4 6 6 4 8\n",
            " 4 6 6 8 6 4 6 4 6 4 6 4 4 8 4 6 6 6 6 4 6 4 6 8 8 6 6 6 8 6 6 4 4 8 4 6 6\n",
            " 8 6 6 4 8 8 4 6 6 6 4 4 4 6 8 4 6 4 6 8 6 4 6 6 6 6 6 6 4 8 6 4 6 8 6 4 6\n",
            " 6 8 6 6 6 4 6 8 4 6 6 6 4 8 6 8 4 6 8 6 8 4 6 4 4 8 4 6 6 4 4 4 6 6 6 8 6\n",
            " 6 4 4 8 6 6 8 6 4 4 4 4 8 4 4 8 4 4 4 6 4 4 4 8 4 6 6 6 8 8 6 6 6 6 6 4 6\n",
            " 6 6 4 8 6 4 6 6 6 8 6 6 8 4 4 6 4 8 6 6 6 6 6 6 8 6 8 4 4 4 8 4 8 6 4 6 4\n",
            " 4 6 6 4 6 6 6 4 6 8 4 6 8 6 6 6 6 6 4 6 6 6 6 8 6 4 6 4 8 6 4 4 4 4 4 4 6\n",
            " 6 6 4 6 6 4 6 6 6 4 6 8 4 4 8 4 4 4 8 6 6 6 6 6 4 4 6 4 6 4 4 6 4 8 8 4 8\n",
            " 4 8]\n",
            "[[35129.34077 ]\n",
            " [45061.95194 ]\n",
            " [32509.47829 ]\n",
            " [15048.04218 ]\n",
            " [14401.90693 ]\n",
            " [21233.91136 ]\n",
            " [13594.08559 ]\n",
            " [23578.16486 ]\n",
            " [11031.12993 ]\n",
            " [18273.00613 ]\n",
            " [12573.89994 ]\n",
            " [16345.94375 ]\n",
            " [19425.84862 ]\n",
            " [10921.94537 ]\n",
            " [13830.24902 ]\n",
            " [17463.04608 ]\n",
            " [12507.48527 ]\n",
            " [12207.87293 ]\n",
            " [22189.11597 ]\n",
            " [11961.61996 ]\n",
            " [12469.52758 ]\n",
            " [11539.84565 ]\n",
            " [ 8870.947316]\n",
            " [16860.09433 ]\n",
            " [44300.63996 ]\n",
            " [20382.15031 ]\n",
            " [14061.12277 ]\n",
            " [20047.95136 ]\n",
            " [39547.5879  ]\n",
            " [16644.08787 ]\n",
            " [16713.98469 ]\n",
            " [70755.46672 ]\n",
            " [12487.05429 ]\n",
            " [13744.84985 ]\n",
            " [46747.67327 ]\n",
            " [21536.74173 ]\n",
            " [28817.08185 ]\n",
            " [13688.00011 ]\n",
            " [20512.09409 ]\n",
            " [14266.91258 ]\n",
            " [19924.15905 ]\n",
            " [16295.21144 ]\n",
            " [38297.46254 ]\n",
            " [ 9789.037676]\n",
            " [14582.76912 ]\n",
            " [55639.08765 ]\n",
            " [23527.7285  ]\n",
            " [10813.34352 ]\n",
            " [17685.20099 ]\n",
            " [11555.2674  ]\n",
            " [11726.00297 ]\n",
            " [16218.84786 ]\n",
            " [35165.75937 ]\n",
            " [12495.97075 ]\n",
            " [38600.23956 ]\n",
            " [25098.62906 ]\n",
            " [11215.01865 ]\n",
            " [23151.54614 ]\n",
            " [30792.14903 ]\n",
            " [18727.50838 ]\n",
            " [22625.07357 ]\n",
            " [35338.65369 ]\n",
            " [18145.12649 ]\n",
            " [28040.12853 ]\n",
            " [12243.06062 ]\n",
            " [14191.88228 ]\n",
            " [17663.22495 ]\n",
            " [23493.0823  ]\n",
            " [11115.01364 ]\n",
            " [21460.01395 ]\n",
            " [17789.34673 ]\n",
            " [66374.30704 ]\n",
            " [12684.98623 ]\n",
            " [15163.16986 ]\n",
            " [18543.42705 ]\n",
            " [19528.10043 ]\n",
            " [49248.15897 ]\n",
            " [16536.74388 ]\n",
            " [21335.85248 ]\n",
            " [39801.55135 ]\n",
            " [23159.54378 ]\n",
            " [17986.22409 ]\n",
            " [31186.74146 ]\n",
            " [15635.79616 ]\n",
            " [14023.93855 ]\n",
            " [11391.21372 ]\n",
            " [47065.20991 ]\n",
            " [30781.51563 ]\n",
            " [44084.91421 ]\n",
            " [15233.15987 ]\n",
            " [12379.12647 ]\n",
            " [15053.93373 ]\n",
            " [12741.19023 ]\n",
            " [13072.84163 ]\n",
            " [35651.68002 ]\n",
            " [18912.9816  ]\n",
            " [11343.05401 ]\n",
            " [21562.04758 ]\n",
            " [11918.45607 ]\n",
            " [17173.94232 ]\n",
            " [36154.30355 ]\n",
            " [39365.88324 ]\n",
            " [15623.91976 ]\n",
            " [35575.41705 ]\n",
            " [16428.57898 ]\n",
            " [30957.08075 ]\n",
            " [17586.92858 ]\n",
            " [ 9482.219404]\n",
            " [21183.12359 ]\n",
            " [17968.83828 ]\n",
            " [14696.02899 ]\n",
            " [13159.82154 ]\n",
            " [12846.06159 ]\n",
            " [14642.32358 ]\n",
            " [12409.94909 ]\n",
            " [21683.03146 ]\n",
            " [23547.23944 ]\n",
            " [14619.07856 ]\n",
            " [14077.96885 ]\n",
            " [ 9563.789309]\n",
            " [16508.59069 ]\n",
            " [21765.06658 ]\n",
            " [16336.91314 ]\n",
            " [16988.30306 ]\n",
            " [12549.89233 ]]\n",
            "[8 8 8 6 4 6 4 8 4 6 4 6 6 4 4 6 4 4 8 4 4 4 4 6 8 6 4 6 8 6 6 8 4 4 8 6 6\n",
            " 4 6 4 6 6 6 4 4 8 6 4 6 4 4 6 8 4 8 6 4 6 6 6 6 8 6 6 4 4 6 6 4 6 6 8 4 4\n",
            " 6 6 8 6 6 8 6 6 8 4 4 4 8 6 8 6 4 4 4 4 8 6 4 6 4 6 8 8 6 8 4 6 6 4 6 6 4\n",
            " 4 4 4 4 6 6 4 4 4 6 8 6 6 4]\n"
          ],
          "name": "stdout"
        }
      ]
    },
    {
      "cell_type": "code",
      "metadata": {
        "id": "UMcFQXTtlXmx"
      },
      "source": [
        "from sklearn.linear_model import LinearRegression\n",
        "slr = LinearRegression()"
      ],
      "execution_count": 15,
      "outputs": []
    },
    {
      "cell_type": "code",
      "metadata": {
        "colab": {
          "base_uri": "https://localhost:8080/"
        },
        "id": "TX4ewYNDleWJ",
        "outputId": "0195eaa9-c04a-45c3-89d8-d3528d55581f"
      },
      "source": [
        "slr.fit(x_train, y_train)"
      ],
      "execution_count": 16,
      "outputs": [
        {
          "output_type": "execute_result",
          "data": {
            "text/plain": [
              "LinearRegression(copy_X=True, fit_intercept=True, n_jobs=None, normalize=False)"
            ]
          },
          "metadata": {
            "tags": []
          },
          "execution_count": 16
        }
      ]
    },
    {
      "cell_type": "code",
      "metadata": {
        "id": "ASXHjEdAlgud"
      },
      "source": [
        "y_pred = slr.predict(x_test)"
      ],
      "execution_count": 17,
      "outputs": []
    },
    {
      "cell_type": "code",
      "metadata": {
        "colab": {
          "base_uri": "https://localhost:8080/"
        },
        "id": "XZQwgnfLlkys",
        "outputId": "c0770e4d-89f6-4157-d9fa-e5d1e1007dfc"
      },
      "source": [
        "y_pred"
      ],
      "execution_count": 18,
      "outputs": [
        {
          "output_type": "execute_result",
          "data": {
            "text/plain": [
              "array([ 7.11709761,  8.16480076,  6.84075152,  4.99889933,  4.93074425,\n",
              "        5.65139187,  4.84553433,  5.8986664 ,  4.57519085,  5.33907221,\n",
              "        4.73792399,  5.13580347,  5.46067535,  4.56367394,  4.87044512,\n",
              "        5.2536367 ,  4.73091849,  4.69931504,  5.75214794,  4.67334   ,\n",
              "        4.72691467,  4.62885076,  4.34733232,  5.19003666,  8.0844967 ,\n",
              "        5.56154714,  4.89479795,  5.52629546,  7.58313935,  5.16725205,\n",
              "        5.17462485, 10.87498199,  4.72876341,  4.86143712,  8.34261257,\n",
              "        5.68333476,  6.45127334,  4.85544055,  5.57525376,  4.91650489,\n",
              "        5.5132377 ,  5.13045217,  7.4512747 ,  4.44417354,  4.9498218 ,\n",
              "        9.28048909,  5.89334632,  4.55221849,  5.27706985,  4.63047747,\n",
              "        4.64848685,  5.12239725,  7.12093908,  4.72970393,  7.48321197,\n",
              "        6.0590467 ,  4.59458764,  5.85366617,  6.65960568,  5.38701362,\n",
              "        5.79813324,  7.13917617,  5.32558332,  6.36931942,  4.70302668,\n",
              "        4.90859061,  5.27475179,  5.88969179,  4.584039  ,  5.67524143,\n",
              "        5.28805526, 10.41285227,  4.7496415 ,  5.01104313,  5.36759652,\n",
              "        5.47146099,  8.60636665,  5.15592929,  5.66214473,  7.60992771,\n",
              "        5.85450977,  5.30882211,  6.70122774,  5.06089629,  4.89087572,\n",
              "        4.6131729 ,  8.37610669,  6.65848405,  8.0617417 ,  5.01842576,\n",
              "        4.71737906,  4.99952078,  4.75556996,  4.79055293,  7.17219455,\n",
              "        5.40657755,  4.60809296,  5.68600405,  4.66878702,  5.2231417 ,\n",
              "        7.22521185,  7.56397294,  5.05964356,  7.16415024,  5.14451993,\n",
              "        6.67700286,  5.26670397,  4.41181   ,  5.64603472,  5.30698824,\n",
              "        4.96176858,  4.79972767,  4.76663191,  4.95610367,  4.72063027,\n",
              "        5.69876557,  5.89540435,  4.95365176,  4.89657489,  4.42041409,\n",
              "        5.15295966,  5.70741873,  5.13485091,  5.20356026,  4.73539164])"
            ]
          },
          "metadata": {
            "tags": []
          },
          "execution_count": 18
        }
      ]
    },
    {
      "cell_type": "code",
      "metadata": {
        "colab": {
          "base_uri": "https://localhost:8080/"
        },
        "id": "6ZB9B6RhloZD",
        "outputId": "6e846521-2862-4e69-c47b-1fa5fa1015b9"
      },
      "source": [
        "x_test"
      ],
      "execution_count": 19,
      "outputs": [
        {
          "output_type": "execute_result",
          "data": {
            "text/plain": [
              "array([[35129.34077 ],\n",
              "       [45061.95194 ],\n",
              "       [32509.47829 ],\n",
              "       [15048.04218 ],\n",
              "       [14401.90693 ],\n",
              "       [21233.91136 ],\n",
              "       [13594.08559 ],\n",
              "       [23578.16486 ],\n",
              "       [11031.12993 ],\n",
              "       [18273.00613 ],\n",
              "       [12573.89994 ],\n",
              "       [16345.94375 ],\n",
              "       [19425.84862 ],\n",
              "       [10921.94537 ],\n",
              "       [13830.24902 ],\n",
              "       [17463.04608 ],\n",
              "       [12507.48527 ],\n",
              "       [12207.87293 ],\n",
              "       [22189.11597 ],\n",
              "       [11961.61996 ],\n",
              "       [12469.52758 ],\n",
              "       [11539.84565 ],\n",
              "       [ 8870.947316],\n",
              "       [16860.09433 ],\n",
              "       [44300.63996 ],\n",
              "       [20382.15031 ],\n",
              "       [14061.12277 ],\n",
              "       [20047.95136 ],\n",
              "       [39547.5879  ],\n",
              "       [16644.08787 ],\n",
              "       [16713.98469 ],\n",
              "       [70755.46672 ],\n",
              "       [12487.05429 ],\n",
              "       [13744.84985 ],\n",
              "       [46747.67327 ],\n",
              "       [21536.74173 ],\n",
              "       [28817.08185 ],\n",
              "       [13688.00011 ],\n",
              "       [20512.09409 ],\n",
              "       [14266.91258 ],\n",
              "       [19924.15905 ],\n",
              "       [16295.21144 ],\n",
              "       [38297.46254 ],\n",
              "       [ 9789.037676],\n",
              "       [14582.76912 ],\n",
              "       [55639.08765 ],\n",
              "       [23527.7285  ],\n",
              "       [10813.34352 ],\n",
              "       [17685.20099 ],\n",
              "       [11555.2674  ],\n",
              "       [11726.00297 ],\n",
              "       [16218.84786 ],\n",
              "       [35165.75937 ],\n",
              "       [12495.97075 ],\n",
              "       [38600.23956 ],\n",
              "       [25098.62906 ],\n",
              "       [11215.01865 ],\n",
              "       [23151.54614 ],\n",
              "       [30792.14903 ],\n",
              "       [18727.50838 ],\n",
              "       [22625.07357 ],\n",
              "       [35338.65369 ],\n",
              "       [18145.12649 ],\n",
              "       [28040.12853 ],\n",
              "       [12243.06062 ],\n",
              "       [14191.88228 ],\n",
              "       [17663.22495 ],\n",
              "       [23493.0823  ],\n",
              "       [11115.01364 ],\n",
              "       [21460.01395 ],\n",
              "       [17789.34673 ],\n",
              "       [66374.30704 ],\n",
              "       [12684.98623 ],\n",
              "       [15163.16986 ],\n",
              "       [18543.42705 ],\n",
              "       [19528.10043 ],\n",
              "       [49248.15897 ],\n",
              "       [16536.74388 ],\n",
              "       [21335.85248 ],\n",
              "       [39801.55135 ],\n",
              "       [23159.54378 ],\n",
              "       [17986.22409 ],\n",
              "       [31186.74146 ],\n",
              "       [15635.79616 ],\n",
              "       [14023.93855 ],\n",
              "       [11391.21372 ],\n",
              "       [47065.20991 ],\n",
              "       [30781.51563 ],\n",
              "       [44084.91421 ],\n",
              "       [15233.15987 ],\n",
              "       [12379.12647 ],\n",
              "       [15053.93373 ],\n",
              "       [12741.19023 ],\n",
              "       [13072.84163 ],\n",
              "       [35651.68002 ],\n",
              "       [18912.9816  ],\n",
              "       [11343.05401 ],\n",
              "       [21562.04758 ],\n",
              "       [11918.45607 ],\n",
              "       [17173.94232 ],\n",
              "       [36154.30355 ],\n",
              "       [39365.88324 ],\n",
              "       [15623.91976 ],\n",
              "       [35575.41705 ],\n",
              "       [16428.57898 ],\n",
              "       [30957.08075 ],\n",
              "       [17586.92858 ],\n",
              "       [ 9482.219404],\n",
              "       [21183.12359 ],\n",
              "       [17968.83828 ],\n",
              "       [14696.02899 ],\n",
              "       [13159.82154 ],\n",
              "       [12846.06159 ],\n",
              "       [14642.32358 ],\n",
              "       [12409.94909 ],\n",
              "       [21683.03146 ],\n",
              "       [23547.23944 ],\n",
              "       [14619.07856 ],\n",
              "       [14077.96885 ],\n",
              "       [ 9563.789309],\n",
              "       [16508.59069 ],\n",
              "       [21765.06658 ],\n",
              "       [16336.91314 ],\n",
              "       [16988.30306 ],\n",
              "       [12549.89233 ]])"
            ]
          },
          "metadata": {
            "tags": []
          },
          "execution_count": 19
        }
      ]
    },
    {
      "cell_type": "code",
      "metadata": {
        "colab": {
          "base_uri": "https://localhost:8080/",
          "height": 295
        },
        "id": "AOb94KQ7lrEG",
        "outputId": "8ee773b2-3b81-47f3-8d55-9db06e67dc78"
      },
      "source": [
        "plt.scatter(x_train,y_train, color = \"blue\")\n",
        "plt.plot(x_train, slr.predict(x_train), color = \"green\")\n",
        "plt.title(\"Simple Linear Regression\")\n",
        "plt.xlabel(\"Price\")\n",
        "plt.ylabel(\"Cylinder\")\n",
        "plt.show()"
      ],
      "execution_count": 20,
      "outputs": [
        {
          "output_type": "display_data",
          "data": {
            "image/png": "[encoded data removed]",
            "text/plain": [
              "<Figure size 432x288 with 1 Axes>"
            ]
          },
          "metadata": {
            "tags": [],
            "needs_background": "light"
          }
        }
      ]
    },
    {
      "cell_type": "code",
      "metadata": {
        "colab": {
          "base_uri": "https://localhost:8080/",
          "height": 295
        },
        "id": "43zBvVdyluVa",
        "outputId": "9ccd3ce4-ff8a-433e-8ca9-a5140fce929d"
      },
      "source": [
        "plt.scatter(x_test,y_test, color = \"blue\")\n",
        "plt.plot(x_test, slr.predict(x_test), color = \"green\")\n",
        "plt.title(\"Simple Linear Regression Model With Test Data\")\n",
        "plt.xlabel(\"Price\")\n",
        "plt.ylabel(\"Cylinder\")\n",
        "plt.show()"
      ],
      "execution_count": 21,
      "outputs": [
        {
          "output_type": "display_data",
          "data": {
            "image/png": "[encoded data removed]",
            "text/plain": [
              "<Figure size 432x288 with 1 Axes>"
            ]
          },
          "metadata": {
            "tags": [],
            "needs_background": "light"
          }
        }
      ]
    },
    {
      "cell_type": "code",
      "metadata": {
        "colab": {
          "base_uri": "https://localhost:8080/"
        },
        "id": "yZyVI_d_lyeA",
        "outputId": "98c67d63-11d6-468a-a485-2fac23ee1d90"
      },
      "source": [
        "print(slr.predict([[40000]]))"
      ],
      "execution_count": null,
      "outputs": [
        {
          "output_type": "stream",
          "text": [
            "[7.50209118]\n"
          ],
          "name": "stdout"
        }
      ]
    },
    {
      "cell_type": "code",
      "metadata": {
        "colab": {
          "base_uri": "https://localhost:8080/"
        },
        "id": "Nr8qG33wl0wz",
        "outputId": "5da98400-faa7-4621-f002-e6dabb7bf59d"
      },
      "source": [
        "print(slr.predict([[55000]]))"
      ],
      "execution_count": null,
      "outputs": [
        {
          "output_type": "stream",
          "text": [
            "[8.98774262]\n"
          ],
          "name": "stdout"
        }
      ]
    },
    {
      "cell_type": "code",
      "metadata": {
        "colab": {
          "base_uri": "https://localhost:8080/"
        },
        "id": "ssTuG0R2mt7q",
        "outputId": "a2892807-24ae-4192-c4b4-cbc1c3722afc"
      },
      "source": [
        "print(slr.predict([[65168]]))"
      ],
      "execution_count": null,
      "outputs": [
        {
          "output_type": "stream",
          "text": [
            "[10.00009309]\n"
          ],
          "name": "stdout"
        }
      ]
    },
    {
      "cell_type": "code",
      "metadata": {
        "id": "Gxo8PA5Jm3Cb",
        "colab": {
          "base_uri": "https://localhost:8080/",
          "height": 295
        },
        "outputId": "a8ea64c0-24fb-44b8-dfb3-dbdee2348e7c"
      },
      "source": [
        "plt.scatter(x_test,y_test, color = \"blue\")\n",
        "plt.plot(x_train, slr.predict(x_train), color = \"green\")\n",
        "plt.title(\"Simple Linear Regression Model With Test Data\")\n",
        "plt.xlabel(\"Price\")\n",
        "plt.ylabel(\"Cylinder\")\n",
        "plt.show()"
      ],
      "execution_count": 22,
      "outputs": [
        {
          "output_type": "display_data",
          "data": {
            "image/png": "[encoded data removed]",
            "text/plain": [
              "<Figure size 432x288 with 1 Axes>"
            ]
          },
          "metadata": {
            "tags": [],
            "needs_background": "light"
          }
        }
      ]
    },
    {
      "cell_type": "code",
      "metadata": {
        "id": "uZWGyxwBQwPb"
      },
      "source": [
        ""
      ],
      "execution_count": null,
      "outputs": []
    }
  ]
}