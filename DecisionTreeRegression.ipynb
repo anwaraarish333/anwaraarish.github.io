{
  "nbformat": 4,
  "nbformat_minor": 0,
  "metadata": {
    "colab": {
      "name": "DecisionTreeRegression.ipynb",
      "provenance": [],
      "collapsed_sections": [],
      "authorship_tag": "ABX9TyMEubBShpiG3KY2/o/mQb9p",
      "include_colab_link": true
    },
    "kernelspec": {
      "name": "python3",
      "display_name": "Python 3"
    },
    "language_info": {
      "name": "python"
    }
  },
  "cells": [
    {
      "cell_type": "markdown",
      "metadata": {
        "id": "view-in-github",
        "colab_type": "text"
      },
      "source": [
        "<a href=\"https://colab.research.google.com/github/anwaraarish333/anwaraarish.github.io/blob/main/DecisionTreeRegression.ipynb\" target=\"_parent\"><img src=\"https://colab.research.google.com/assets/colab-badge.svg\" alt=\"Open In Colab\"/></a>"
      ]
    },
    {
      "cell_type": "code",
      "metadata": {
        "colab": {
          "base_uri": "https://localhost:8080/",
          "height": 203
        },
        "id": "oPZe_Q6sgz-a",
        "outputId": "4927290f-3357-4601-88e6-7ea857fbc8f7"
      },
      "source": [
        "import pandas as pd \n",
        "import numpy as np \n",
        "import matplotlib.pyplot as plt \n",
        " \n",
        "data = pd.read_csv('/content/Height_Age_Dataset.csv') \n",
        "data.head()"
      ],
      "execution_count": 6,
      "outputs": [
        {
          "output_type": "execute_result",
          "data": {
            "text/html": [
              "<div>\n",
              "<style scoped>\n",
              "    .dataframe tbody tr th:only-of-type {\n",
              "        vertical-align: middle;\n",
              "    }\n",
              "\n",
              "    .dataframe tbody tr th {\n",
              "        vertical-align: top;\n",
              "    }\n",
              "\n",
              "    .dataframe thead th {\n",
              "        text-align: right;\n",
              "    }\n",
              "</style>\n",
              "<table border=\"1\" class=\"dataframe\">\n",
              "  <thead>\n",
              "    <tr style=\"text-align: right;\">\n",
              "      <th></th>\n",
              "      <th>Age</th>\n",
              "      <th>Height</th>\n",
              "    </tr>\n",
              "  </thead>\n",
              "  <tbody>\n",
              "    <tr>\n",
              "      <th>0</th>\n",
              "      <td>10</td>\n",
              "      <td>138</td>\n",
              "    </tr>\n",
              "    <tr>\n",
              "      <th>1</th>\n",
              "      <td>11</td>\n",
              "      <td>138</td>\n",
              "    </tr>\n",
              "    <tr>\n",
              "      <th>2</th>\n",
              "      <td>12</td>\n",
              "      <td>138</td>\n",
              "    </tr>\n",
              "    <tr>\n",
              "      <th>3</th>\n",
              "      <td>13</td>\n",
              "      <td>139</td>\n",
              "    </tr>\n",
              "    <tr>\n",
              "      <th>4</th>\n",
              "      <td>14</td>\n",
              "      <td>139</td>\n",
              "    </tr>\n",
              "  </tbody>\n",
              "</table>\n",
              "</div>"
            ],
            "text/plain": [
              "   Age  Height\n",
              "0   10     138\n",
              "1   11     138\n",
              "2   12     138\n",
              "3   13     139\n",
              "4   14     139"
            ]
          },
          "metadata": {
            "tags": []
          },
          "execution_count": 6
        }
      ]
    },
    {
      "cell_type": "code",
      "metadata": {
        "id": "BvB3UxN1lpz7"
      },
      "source": [
        "X = data.iloc[:, 0:1].values \n",
        "y = data.iloc[:, 1].values"
      ],
      "execution_count": 8,
      "outputs": []
    },
    {
      "cell_type": "code",
      "metadata": {
        "id": "a6cXe80jlw4F"
      },
      "source": [
        "from sklearn.model_selection import train_test_split\n",
        "X_train, X_test, y_train, y_test = train_test_split(X, y, test_size=0.3, random_state=0)"
      ],
      "execution_count": 9,
      "outputs": []
    },
    {
      "cell_type": "code",
      "metadata": {
        "colab": {
          "base_uri": "https://localhost:8080/"
        },
        "id": "_E1H6NLalz5H",
        "outputId": "5897fde4-1ce2-475a-a2b2-969cec13f360"
      },
      "source": [
        "from sklearn.tree import DecisionTreeRegressor  \n",
        "  \n",
        "DtReg = DecisionTreeRegressor(random_state = 0)  \n",
        "  \n",
        "DtReg.fit(X_train, y_train)"
      ],
      "execution_count": 10,
      "outputs": [
        {
          "output_type": "execute_result",
          "data": {
            "text/plain": [
              "DecisionTreeRegressor(ccp_alpha=0.0, criterion='mse', max_depth=None,\n",
              "                      max_features=None, max_leaf_nodes=None,\n",
              "                      min_impurity_decrease=0.0, min_impurity_split=None,\n",
              "                      min_samples_leaf=1, min_samples_split=2,\n",
              "                      min_weight_fraction_leaf=0.0, presort='deprecated',\n",
              "                      random_state=0, splitter='best')"
            ]
          },
          "metadata": {
            "tags": []
          },
          "execution_count": 10
        }
      ]
    },
    {
      "cell_type": "code",
      "metadata": {
        "colab": {
          "base_uri": "https://localhost:8080/"
        },
        "id": "8jGzlDd8l9Tk",
        "outputId": "d964b6cf-33cb-44b0-c5be-ab71dd92e169"
      },
      "source": [
        "y_predict_dtr = DtReg.predict((X_test))\n",
        "\n",
        "from sklearn import metrics\n",
        "r_square = metrics.r2_score(y_test, y_predict_dtr)\n",
        "print('R-Square Error associated with Decision Tree Regression is:', r_square)"
      ],
      "execution_count": 11,
      "outputs": [
        {
          "output_type": "stream",
          "text": [
            "R-Square Error associated with Decision Tree Regression is: 0.9941828370498541\n"
          ],
          "name": "stdout"
        }
      ]
    },
    {
      "cell_type": "code",
      "metadata": {
        "colab": {
          "base_uri": "https://localhost:8080/",
          "height": 312
        },
        "id": "OhTMOY8BmHUX",
        "outputId": "992226dd-0337-45f5-a291-bcb6bb45addc"
      },
      "source": [
        "X_val = np.arange(min(X_train), max(X_train), 0.01) \n",
        " \n",
        "X_val = X_val.reshape((len(X_val), 1))  \n",
        "\n",
        "plt.scatter(X_train, y_train, color = 'blue') \n",
        "  \n",
        "plt.plot(X_val, DtReg.predict(X_val), color = 'red')  \n",
        "  \n",
        "plt.title('Height prediction using Decision Tree Regression')  \n",
        "  \n",
        "plt.xlabel('Age') \n",
        "  \n",
        "plt.ylabel('Height') \n",
        "\n",
        "plt.figure(figsize=(1,1))\n",
        "  \n",
        "plt.show()"
      ],
      "execution_count": 12,
      "outputs": [
        {
          "output_type": "display_data",
          "data": {
            "image/png": "[encoded data removed]",
            "text/plain": [
              "<Figure size 432x288 with 1 Axes>"
            ]
          },
          "metadata": {
            "tags": [],
            "needs_background": "light"
          }
        },
        {
          "output_type": "display_data",
          "data": {
            "text/plain": [
              "<Figure size 72x72 with 0 Axes>"
            ]
          },
          "metadata": {
            "tags": []
          }
        }
      ]
    },
    {
      "cell_type": "code",
      "metadata": {
        "id": "n31jzHg7mcy3"
      },
      "source": [
        "from sklearn.tree import export_graphviz  \n",
        "\n",
        "export_graphviz(DtReg, out_file ='dtregression.dot', \n",
        "               feature_names =['Age'])"
      ],
      "execution_count": 13,
      "outputs": []
    },
    {
      "cell_type": "code",
      "metadata": {
        "colab": {
          "base_uri": "https://localhost:8080/"
        },
        "id": "rFcF742dmm8i",
        "outputId": "df2343e2-ae30-45db-e8ac-73991bcea007"
      },
      "source": [
        "height_pred = DtReg.predict([[41]])\n",
        "print(\"Predicted Height: % d\"% height_pred)"
      ],
      "execution_count": 14,
      "outputs": [
        {
          "output_type": "stream",
          "text": [
            "Predicted Height:  151\n"
          ],
          "name": "stdout"
        }
      ]
    },
    {
      "cell_type": "code",
      "metadata": {
        "colab": {
          "base_uri": "https://localhost:8080/"
        },
        "id": "idF6fMoCpcf3",
        "outputId": "0352c001-85ee-45ea-bfaa-31bb4e6eb155"
      },
      "source": [
        "height_pred = DtReg.predict([[20]])\n",
        "print(\"Predicted Height: % d\"% height_pred)"
      ],
      "execution_count": 15,
      "outputs": [
        {
          "output_type": "stream",
          "text": [
            "Predicted Height:  141\n"
          ],
          "name": "stdout"
        }
      ]
    },
    {
      "cell_type": "code",
      "metadata": {
        "colab": {
          "base_uri": "https://localhost:8080/"
        },
        "id": "1Xpq5fVMp8Wn",
        "outputId": "9bcce0ad-0bac-444d-9c96-c98250b44b0a"
      },
      "source": [
        "height_pred = DtReg.predict([[10]])\n",
        "print(\"Predicted Height: % d\"% height_pred)"
      ],
      "execution_count": 16,
      "outputs": [
        {
          "output_type": "stream",
          "text": [
            "Predicted Height:  138\n"
          ],
          "name": "stdout"
        }
      ]
    },
    {
      "cell_type": "code",
      "metadata": {
        "id": "wLlFU2R2qAX2"
      },
      "source": [
        ""
      ],
      "execution_count": null,
      "outputs": []
    }
  ]
}